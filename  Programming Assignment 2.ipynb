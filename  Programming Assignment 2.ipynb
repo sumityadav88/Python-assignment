{
 "cells": [
  {
   "cell_type": "markdown",
   "id": "e41aa9c4-f016-46fc-895e-b675dbf1e729",
   "metadata": {},
   "source": [
    "1. Write a Python program to convert kilometers to miles?"
   ]
  },
  {
   "cell_type": "code",
   "execution_count": 9,
   "id": "00c966e5-df70-404c-a1ca-23baf0a07775",
   "metadata": {},
   "outputs": [
    {
     "name": "stdin",
     "output_type": "stream",
     "text": [
      "Enter value in: 2\n"
     ]
    },
    {
     "name": "stdout",
     "output_type": "stream",
     "text": [
      " 2km has 1.2430080795525171miles\n"
     ]
    }
   ],
   "source": [
    "km = int(input(\"Enter value in:\"))\n",
    "Miles = km/1.609\n",
    "\n",
    "print(f' {km}km has {Miles}miles')"
   ]
  },
  {
   "cell_type": "markdown",
   "id": "88a02fdc-7f9d-4204-af4d-ac08d899219d",
   "metadata": {},
   "source": [
    "2. Write a Python program to convert Celsius to Fahrenheit?"
   ]
  },
  {
   "cell_type": "code",
   "execution_count": 13,
   "id": "a1816a0f-cbaa-467e-af4c-14c69d6e636b",
   "metadata": {},
   "outputs": [
    {
     "name": "stdin",
     "output_type": "stream",
     "text": [
      "Enter value into celsius 1\n"
     ]
    },
    {
     "name": "stdout",
     "output_type": "stream",
     "text": [
      "1 C has 33.8 Fahrenheit\n"
     ]
    }
   ],
   "source": [
    "c = int(input('Enter value into celsius'))\n",
    "f = (9/5)*c+32\n",
    "\n",
    "print(f'{c} C has {f} Fahrenheit')"
   ]
  },
  {
   "cell_type": "markdown",
   "id": "ae873a11-97e7-4025-90da-74119ee64e18",
   "metadata": {},
   "source": [
    "3. Write a Python program to display calendar?"
   ]
  },
  {
   "cell_type": "code",
   "execution_count": 23,
   "id": "f38d05a1-6e21-4ba3-b74f-592c93101ded",
   "metadata": {},
   "outputs": [
    {
     "name": "stdout",
     "output_type": "stream",
     "text": [
      "                                   24\n",
      "\n",
      "      January                   February                   March\n",
      "Mo Tu We Th Fr Sa Su      Mo Tu We Th Fr Sa Su      Mo Tu We Th Fr Sa Su\n",
      " 1  2  3  4  5  6  7                1  2  3  4                   1  2  3\n",
      " 8  9 10 11 12 13 14       5  6  7  8  9 10 11       4  5  6  7  8  9 10\n",
      "15 16 17 18 19 20 21      12 13 14 15 16 17 18      11 12 13 14 15 16 17\n",
      "22 23 24 25 26 27 28      19 20 21 22 23 24 25      18 19 20 21 22 23 24\n",
      "29 30 31                  26 27 28 29               25 26 27 28 29 30 31\n",
      "\n",
      "       April                      May                       June\n",
      "Mo Tu We Th Fr Sa Su      Mo Tu We Th Fr Sa Su      Mo Tu We Th Fr Sa Su\n",
      " 1  2  3  4  5  6  7             1  2  3  4  5                      1  2\n",
      " 8  9 10 11 12 13 14       6  7  8  9 10 11 12       3  4  5  6  7  8  9\n",
      "15 16 17 18 19 20 21      13 14 15 16 17 18 19      10 11 12 13 14 15 16\n",
      "22 23 24 25 26 27 28      20 21 22 23 24 25 26      17 18 19 20 21 22 23\n",
      "29 30                     27 28 29 30 31            24 25 26 27 28 29 30\n",
      "\n",
      "        July                     August                  September\n",
      "Mo Tu We Th Fr Sa Su      Mo Tu We Th Fr Sa Su      Mo Tu We Th Fr Sa Su\n",
      " 1  2  3  4  5  6  7                1  2  3  4                         1\n",
      " 8  9 10 11 12 13 14       5  6  7  8  9 10 11       2  3  4  5  6  7  8\n",
      "15 16 17 18 19 20 21      12 13 14 15 16 17 18       9 10 11 12 13 14 15\n",
      "22 23 24 25 26 27 28      19 20 21 22 23 24 25      16 17 18 19 20 21 22\n",
      "29 30 31                  26 27 28 29 30 31         23 24 25 26 27 28 29\n",
      "                                                    30\n",
      "\n",
      "      October                   November                  December\n",
      "Mo Tu We Th Fr Sa Su      Mo Tu We Th Fr Sa Su      Mo Tu We Th Fr Sa Su\n",
      "    1  2  3  4  5  6                   1  2  3                         1\n",
      " 7  8  9 10 11 12 13       4  5  6  7  8  9 10       2  3  4  5  6  7  8\n",
      "14 15 16 17 18 19 20      11 12 13 14 15 16 17       9 10 11 12 13 14 15\n",
      "21 22 23 24 25 26 27      18 19 20 21 22 23 24      16 17 18 19 20 21 22\n",
      "28 29 30 31               25 26 27 28 29 30         23 24 25 26 27 28 29\n",
      "                                                    30 31\n",
      "\n"
     ]
    }
   ],
   "source": [
    "import calendar\n",
    "print(calendar.calendar(24))"
   ]
  },
  {
   "cell_type": "markdown",
   "id": "ba8d94a9-e661-4670-849e-4da7f17b73a2",
   "metadata": {},
   "source": [
    "4. Write a Python program to solve quadratic equation?"
   ]
  },
  {
   "cell_type": "code",
   "execution_count": 41,
   "id": "fb50c959-7fad-4ec7-b9c2-38f628e23be1",
   "metadata": {},
   "outputs": [
    {
     "name": "stdin",
     "output_type": "stream",
     "text": [
      "Enter b: 25\n",
      "Enter a: 4\n",
      "Enter c: 9\n"
     ]
    },
    {
     "name": "stdout",
     "output_type": "stream",
     "text": [
      "-0.3835359750673364\n",
      "-5.866464024932664\n"
     ]
    }
   ],
   "source": [
    "# b**2-4*a*c\n",
    "import math\n",
    "b = int(input(\"Enter b:\"))\n",
    "a = int(input(\"Enter a:\"))\n",
    "c = int(input(\"Enter c:\"))\n",
    "eq = math.sqrt((math.pow(b,2))-(4*a*c))\n",
    "x = (-b + eq)/(2*a)\n",
    "y = (-b - eq)/(2*a)\n",
    "print(x)\n",
    "print(y)"
   ]
  },
  {
   "cell_type": "markdown",
   "id": "c56a01bb-a13d-483c-aede-94a8a4e4ae82",
   "metadata": {},
   "source": [
    "5. Write a Python program to swap two variables without temp variable?"
   ]
  },
  {
   "cell_type": "code",
   "execution_count": 43,
   "id": "9513d314-71e3-4b15-883c-c0a7790bbfae",
   "metadata": {},
   "outputs": [
    {
     "name": "stdout",
     "output_type": "stream",
     "text": [
      "Before swap: a is 4 and b is 2 \n",
      "After swap: a is 2 and b is 4\n"
     ]
    }
   ],
   "source": [
    "a = 4\n",
    "b = 2\n",
    "a = a + b\n",
    "b = a - b\n",
    "a = a - b\n",
    "print('Before swap: a is 4 and b is 2 ')\n",
    "print(f'After swap: a is {a} and b is {b}')"
   ]
  },
  {
   "cell_type": "code",
   "execution_count": null,
   "id": "56f48236-c3fb-41c6-ab32-46be99f46302",
   "metadata": {},
   "outputs": [],
   "source": []
  }
 ],
 "metadata": {
  "kernelspec": {
   "display_name": "Python 3 (ipykernel)",
   "language": "python",
   "name": "python3"
  },
  "language_info": {
   "codemirror_mode": {
    "name": "ipython",
    "version": 3
   },
   "file_extension": ".py",
   "mimetype": "text/x-python",
   "name": "python",
   "nbconvert_exporter": "python",
   "pygments_lexer": "ipython3",
   "version": "3.12.4"
  }
 },
 "nbformat": 4,
 "nbformat_minor": 5
}
