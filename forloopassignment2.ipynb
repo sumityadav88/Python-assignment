{
 "cells": [
  {
   "cell_type": "markdown",
   "id": "823be2ca-79ea-4cb1-9c56-f6eee68d90a6",
   "metadata": {},
   "source": [
    "1: Write a Python program to print all the numbers from 1 to 10 using a for loop"
   ]
  },
  {
   "cell_type": "code",
   "execution_count": 1,
   "id": "90e36104-c0c1-4e92-a0fb-6c85517670cf",
   "metadata": {},
   "outputs": [
    {
     "name": "stdout",
     "output_type": "stream",
     "text": [
      "1\n",
      "2\n",
      "3\n",
      "4\n",
      "5\n",
      "6\n",
      "7\n",
      "8\n",
      "9\n",
      "10\n"
     ]
    }
   ],
   "source": [
    "for i in range(1,11,1):\n",
    "    print(i)"
   ]
  },
  {
   "cell_type": "markdown",
   "id": "5cf416ce-9544-4447-b571-cc9795c540ee",
   "metadata": {},
   "source": [
    "2: Write a Python program to find the sum of all numbers from 1 to 100 using a for\n",
    "loop. "
   ]
  },
  {
   "cell_type": "code",
   "execution_count": 28,
   "id": "a0aff22f-d2ee-48c5-9ae2-7986bc63ee42",
   "metadata": {},
   "outputs": [
    {
     "name": "stdout",
     "output_type": "stream",
     "text": [
      "5050\n"
     ]
    }
   ],
   "source": [
    "sum=0\n",
    "for item in range(1,101,1) :\n",
    "    sum=sum+item\n",
    "    \n",
    "print(sum)"
   ]
  },
  {
   "cell_type": "markdown",
   "id": "11fbc8d4-dde3-4866-84ab-0adba2dcfa30",
   "metadata": {},
   "source": [
    "3: Write a Python program to print the multiplication table of a given number using a\n",
    "for loop."
   ]
  },
  {
   "cell_type": "code",
   "execution_count": 53,
   "id": "627bf8c0-9255-4ab3-9928-f4f4aede0e3a",
   "metadata": {},
   "outputs": [
    {
     "name": "stdin",
     "output_type": "stream",
     "text": [
      "Enter a number 4\n"
     ]
    },
    {
     "name": "stdout",
     "output_type": "stream",
     "text": [
      "4x1=4\n",
      "4x2=8\n",
      "4x3=12\n",
      "4x4=16\n",
      "4x5=20\n",
      "4x6=24\n",
      "4x7=28\n",
      "4x8=32\n",
      "4x9=36\n",
      "4x10=40\n"
     ]
    }
   ],
   "source": [
    "n=int(input(\"Enter a number\"))\n",
    "for i in range(1,11,1):\n",
    "    print(f\"{n}x{i}={n*i}\")"
   ]
  },
  {
   "cell_type": "markdown",
   "id": "22c97733-3a0d-42ba-b77f-d54bcb344ba2",
   "metadata": {},
   "source": [
    "4: Write a Python program to count the number of even and odd numbers from a\n",
    "series of numbers using a for loop."
   ]
  },
  {
   "cell_type": "code",
   "execution_count": 59,
   "id": "519a5787-1533-4fac-9085-679df5e1f56b",
   "metadata": {},
   "outputs": [
    {
     "name": "stdout",
     "output_type": "stream",
     "text": [
      "Even no in range: 4\n",
      "Odd no in range: 5\n"
     ]
    }
   ],
   "source": [
    "i=[1,2,3,4,5,6,3,5,2] // i is list type userdefined datatype\n",
    "countEven=0\n",
    "countOdd=0\n",
    "for list in i:\n",
    "    if(list%2==0):\n",
    "        countEven+=1\n",
    "    else:\n",
    "        countOdd+=1\n",
    "\n",
    "print(\"Even no in range:\",countEven)\n",
    "print(\"Odd no in range:\",countOdd)\n",
    "    "
   ]
  },
  {
   "cell_type": "raw",
   "id": "b65b59ca-4f4e-4065-93fa-19c3837e29c1",
   "metadata": {},
   "source": [
    "5: Write a Python program to find the factorial of a number using a for loop."
   ]
  },
  {
   "cell_type": "code",
   "execution_count": 69,
   "id": "eeb6dfc2-5c67-4619-88ec-ae7a35e9742f",
   "metadata": {},
   "outputs": [
    {
     "name": "stdin",
     "output_type": "stream",
     "text": [
      "Enter a number: 5\n"
     ]
    },
    {
     "name": "stdout",
     "output_type": "stream",
     "text": [
      "factorial of 5 is 120\n"
     ]
    }
   ],
   "source": [
    "n = int(input(\"Enter a number:\"))\n",
    "fact=1\n",
    "for i in range(1,n+1,1):\n",
    "    fact=fact*i\n",
    "\n",
    "print(f\"factorial of {n} is\",fact)"
   ]
  },
  {
   "cell_type": "markdown",
   "id": "9ae5aa3c-e15a-4440-a674-73c66c8b7864",
   "metadata": {},
   "source": [
    "6: Write a Python program to print the Fibonacci sequence up to a specified number\n",
    "using a for loop."
   ]
  },
  {
   "cell_type": "code",
   "execution_count": 89,
   "id": "2a289981-549f-41b3-8a31-748aa317d616",
   "metadata": {},
   "outputs": [
    {
     "name": "stdin",
     "output_type": "stream",
     "text": [
      "enter: 5\n"
     ]
    },
    {
     "name": "stdout",
     "output_type": "stream",
     "text": [
      "1 -1 1 3 5 7 9 "
     ]
    }
   ],
   "source": [
    "n = int(input(\"enter:\"))\n",
    "seq=0\n",
    "for i in range(0,n+1,1):\n",
    "    if i==0:\n",
    "        seq=1\n",
    "        print(seq,end=\" \")\n",
    "    seq=i+(i-1)\n",
    "    print(seq,end=\" \")\n"
   ]
  },
  {
   "cell_type": "raw",
   "id": "c4e1fe05-6567-4e9f-8f35-b34a673250ba",
   "metadata": {},
   "source": [
    "7: Write a Python program to check if a given number is prime or not using a for loop."
   ]
  },
  {
   "cell_type": "code",
   "execution_count": 145,
   "id": "12424048-c122-4fc3-9cf9-3324fb3a336c",
   "metadata": {},
   "outputs": [
    {
     "name": "stdin",
     "output_type": "stream",
     "text": [
      "Enter a number 4\n"
     ]
    },
    {
     "name": "stdout",
     "output_type": "stream",
     "text": [
      "Not a prime no\n"
     ]
    }
   ],
   "source": [
    "n = int(input(\"Enter a number\"))\n",
    "count=0\n",
    "for i in range(1,n+1,1):\n",
    "    if n%i==0:\n",
    "       count+=1\n",
    "\n",
    "if count == 2:\n",
    "    print(\"Prime no\")\n",
    "else:\n",
    "    print(\"Not a prime no\")"
   ]
  },
  {
   "cell_type": "raw",
   "id": "446188e3-b63e-4b06-98cf-f5149a864b2a",
   "metadata": {},
   "source": [
    "8: Write a Python program to find the largest element in a list using a for loop"
   ]
  },
  {
   "cell_type": "code",
   "execution_count": 149,
   "id": "0969cb9c-6f33-489a-942e-1f81bd280ee2",
   "metadata": {},
   "outputs": [],
   "source": [
    "list = [1,2,3,4,5,8,2,1]\n",
    "length=len(list)\n",
    "for ele1 in range(0,length,1):\n",
    "    for ele2 in range(1,length,1):\n",
    "        ele1 > ele2"
   ]
  },
  {
   "cell_type": "raw",
   "id": "f4b231fd-8d33-4fbf-a262-70175e1ecf6f",
   "metadata": {},
   "source": [
    "9: Write a Python program to reverse a given string using a for loop"
   ]
  },
  {
   "cell_type": "code",
   "execution_count": 10,
   "id": "66d89156-1f61-4f1b-aa37-7de48f268865",
   "metadata": {},
   "outputs": [
    {
     "name": "stdout",
     "output_type": "stream",
     "text": [
      "timus\n"
     ]
    }
   ],
   "source": [
    "string =\"sumit\"\n",
    "reverse=\"\"\n",
    "for char in range(len(string)-1,-1,-1):\n",
    "    reverse+=string[char]\n",
    "\n",
    "print(reverse)"
   ]
  },
  {
   "cell_type": "raw",
   "id": "51027dff-2266-4ef6-a42a-04ff4893b58a",
   "metadata": {},
   "source": [
    "Question 10: Write a Python program to find the common elements between two lists using a\n",
    "for loop.\n",
    "List1 = [1,2,3]\n",
    "List2 = [4,5,1]"
   ]
  },
  {
   "cell_type": "code",
   "execution_count": null,
   "id": "57b0278b-8906-47d7-a9b5-7718bbeba8f4",
   "metadata": {},
   "outputs": [],
   "source": []
  }
 ],
 "metadata": {
  "kernelspec": {
   "display_name": "Python 3 (ipykernel)",
   "language": "python",
   "name": "python3"
  },
  "language_info": {
   "codemirror_mode": {
    "name": "ipython",
    "version": 3
   },
   "file_extension": ".py",
   "mimetype": "text/x-python",
   "name": "python",
   "nbconvert_exporter": "python",
   "pygments_lexer": "ipython3",
   "version": "3.12.4"
  }
 },
 "nbformat": 4,
 "nbformat_minor": 5
}
