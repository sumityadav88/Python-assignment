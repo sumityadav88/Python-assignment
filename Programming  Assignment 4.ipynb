{
 "cells": [
  {
   "cell_type": "markdown",
   "id": "b0b9b679-d969-48ab-92e1-901ba40c0858",
   "metadata": {},
   "source": [
    "1. Write a Python Program to Find the Factorial of a Number?"
   ]
  },
  {
   "cell_type": "code",
   "execution_count": null,
   "id": "571ac211-fafa-447a-ac96-2e1298fd97fe",
   "metadata": {},
   "outputs": [],
   "source": [
    "num = int(input(\"Enter a number\"))\n",
    "fact=1\n",
    "i=1\n",
    "while i <= num:\n",
    "    fact*=i\n",
    "    i+=1\n",
    "print(fact)"
   ]
  },
  {
   "cell_type": "markdown",
   "id": "2c0eaac1-a7c9-4714-a2ff-46f963b54a3c",
   "metadata": {},
   "source": [
    "2. Write a Python Program to Display the multiplication Table?"
   ]
  },
  {
   "cell_type": "code",
   "execution_count": null,
   "id": "6f86fdd4-d071-4572-ba42-7066976fd856",
   "metadata": {},
   "outputs": [],
   "source": [
    "print(\"********** Multiplication Table**********\")\n",
    "num = int(input(\"Enter a number\"))\n",
    "for i in range(1,11):\n",
    "    print(f'{num} x {i} = {num*i}')"
   ]
  },
  {
   "cell_type": "markdown",
   "id": "c3ee40fd-8554-4547-afdd-1b36b2adabf2",
   "metadata": {},
   "source": [
    "3. Write a Python Program to Print the Fibonacci sequence?"
   ]
  },
  {
   "cell_type": "code",
   "execution_count": null,
   "id": "9eb477ca-86e3-4467-92e1-733bc116d47e",
   "metadata": {},
   "outputs": [],
   "source": [
    "print(\"**********Fibonacci sequence**********\")\n",
    "num = int(input(\"Enter a number of terms:\"))\n",
    "num1 = 0\n",
    "num2 = 1\n",
    "next_num=num2\n",
    "for i in range(1,num+1):\n",
    "    print(next_num,' ')\n",
    "    num1,num2 = next_num,num1\n",
    "    next_num=num1+num2"
   ]
  },
  {
   "cell_type": "markdown",
   "id": "effdefca-94d4-48d3-ac9f-e30ffa32cd7f",
   "metadata": {},
   "source": [
    "4. Write a Python Program to Check Armstrong Number?"
   ]
  },
  {
   "cell_type": "code",
   "execution_count": 35,
   "id": "5f37b9a3-bd53-412f-8515-615e826c2e51",
   "metadata": {},
   "outputs": [
    {
     "name": "stdin",
     "output_type": "stream",
     "text": [
      "Enter a number:  1234\n"
     ]
    },
    {
     "name": "stdout",
     "output_type": "stream",
     "text": [
      "1234 is not an Armstrong number\n"
     ]
    }
   ],
   "source": [
    "num = int(input(\"Enter a number: \"))  #123\n",
    "\n",
    "sum = 0\n",
    "\n",
    "temp = num                           # temp=123\n",
    "order=len(str(num))\n",
    "\n",
    "while temp > 0:\n",
    "   digit = temp % 10                 # 123%10=3   12%10=2  1%10\n",
    "   sum += digit ** order             # sum = 27+8+1\n",
    "   temp //= 10                       # 123/10=12  12/10=1 1/10=0 \n",
    "    \n",
    "if num == sum:\n",
    "   print(num,\"is an Armstrong number\")\n",
    "else:\n",
    "   print(num,\"is not an Armstrong number\")"
   ]
  },
  {
   "cell_type": "markdown",
   "id": "39da800c-e794-4f66-9644-340f27e3d3cc",
   "metadata": {},
   "source": [
    "5. Write a Python Program to Find Armstrong Number in an Interval?"
   ]
  },
  {
   "cell_type": "code",
   "execution_count": 25,
   "id": "4530a4a9-4a07-4c9d-89f2-f231feb64a9d",
   "metadata": {},
   "outputs": [
    {
     "name": "stdin",
     "output_type": "stream",
     "text": [
      "Enter a number:  100\n",
      "Enter a number:  2000\n"
     ]
    },
    {
     "name": "stdout",
     "output_type": "stream",
     "text": [
      "153\n",
      "370\n",
      "371\n",
      "407\n",
      "1634\n"
     ]
    }
   ],
   "source": [
    "num1 = int(input(\"Enter a number: \"))\n",
    "num2 = int(input(\"Enter a number: \"))\n",
    "for num in range(num1,num2+1):\n",
    "    temp = num\n",
    "    order = len(str(num))\n",
    "    sum=0\n",
    "    while temp > 0:\n",
    "        digit=temp%10\n",
    "        sum+=digit**order\n",
    "        temp//=10\n",
    "        \n",
    "    if num == sum:\n",
    "        print(num)\n"
   ]
  },
  {
   "cell_type": "markdown",
   "id": "07054dff-17a0-4c70-886f-a1b1b90fa03c",
   "metadata": {},
   "source": [
    "6. Write a Python Program to Find the Sum of Natural Numbers?"
   ]
  },
  {
   "cell_type": "code",
   "execution_count": 27,
   "id": "2c0b5e0b-9adc-43bf-9ce5-e60f2e93233f",
   "metadata": {},
   "outputs": [
    {
     "name": "stdin",
     "output_type": "stream",
     "text": [
      "Enter a number: 10\n"
     ]
    },
    {
     "name": "stdout",
     "output_type": "stream",
     "text": [
      "55\n"
     ]
    }
   ],
   "source": [
    "num = int(input(\"Enter a number:\"))\n",
    "sum=0\n",
    "for i in range(1,num+1):\n",
    "    sum+=i\n",
    "\n",
    "print(sum)"
   ]
  },
  {
   "cell_type": "code",
   "execution_count": null,
   "id": "94eec09f-b25e-4828-b1b4-e3b0472526df",
   "metadata": {},
   "outputs": [],
   "source": [
    "str1 = \"123\"\n",
    "str1[0]"
   ]
  }
 ],
 "metadata": {
  "kernelspec": {
   "display_name": "Python 3 (ipykernel)",
   "language": "python",
   "name": "python3"
  },
  "language_info": {
   "codemirror_mode": {
    "name": "ipython",
    "version": 3
   },
   "file_extension": ".py",
   "mimetype": "text/x-python",
   "name": "python",
   "nbconvert_exporter": "python",
   "pygments_lexer": "ipython3",
   "version": "3.12.4"
  }
 },
 "nbformat": 4,
 "nbformat_minor": 5
}
