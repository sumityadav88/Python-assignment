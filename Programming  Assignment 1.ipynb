{
 "cells": [
  {
   "cell_type": "markdown",
   "id": "939a48d0-105e-4368-a07f-557ba095bb37",
   "metadata": {},
   "source": [
    "1. Write a Python program to print \"Hello Python\"?"
   ]
  },
  {
   "cell_type": "code",
   "execution_count": 1,
   "id": "e45548a5-d5ac-4f1a-9c10-06f882fd7454",
   "metadata": {},
   "outputs": [
    {
     "name": "stdout",
     "output_type": "stream",
     "text": [
      "\"Hello Python\"\n"
     ]
    }
   ],
   "source": [
    "print('\"Hello Python\"')"
   ]
  },
  {
   "cell_type": "markdown",
   "id": "85cbeab1-4e6d-4668-8a8b-8c24a7032950",
   "metadata": {},
   "source": [
    "2. Write a Python program to do arithmetical operations addition and division.?"
   ]
  },
  {
   "cell_type": "code",
   "execution_count": 19,
   "id": "c1be1fb6-1964-4716-a0b7-30d6ff765021",
   "metadata": {},
   "outputs": [
    {
     "name": "stdout",
     "output_type": "stream",
     "text": [
      "Sum of two number is: 15 \n",
      "Division is: 2.0\n"
     ]
    }
   ],
   "source": [
    "num1=10\n",
    "num2=5\n",
    "addition=num1+num2\n",
    "division=num1/num2\n",
    "print(\"Sum of two number is:\",addition,\"\\nDivision is:\",division)"
   ]
  },
  {
   "cell_type": "markdown",
   "id": "511cbab0-573a-485b-931b-69c148270ca7",
   "metadata": {},
   "source": [
    "3. Write a Python program to find the area of a triangle?"
   ]
  },
  {
   "cell_type": "code",
   "execution_count": 21,
   "id": "35b9b484-b498-48e6-8ca0-f77f5a481f05",
   "metadata": {},
   "outputs": [
    {
     "name": "stdout",
     "output_type": "stream",
     "text": [
      "area of triangle: 5.0\n"
     ]
    }
   ],
   "source": [
    "h = 5\n",
    "b = 2\n",
    "area = (1/2)*b*h\n",
    "print(\"area of triangle:\",area)"
   ]
  },
  {
   "cell_type": "markdown",
   "id": "b633235a-27d0-414d-9ce4-c045c4707454",
   "metadata": {},
   "source": [
    "4. Write a Python program to swap two variables?"
   ]
  },
  {
   "cell_type": "code",
   "execution_count": 29,
   "id": "a0ddef11-c99f-4934-94a3-02292d4c9a9b",
   "metadata": {},
   "outputs": [
    {
     "name": "stdout",
     "output_type": "stream",
     "text": [
      "Swap value of a is: 3 and b is: 5\n"
     ]
    }
   ],
   "source": [
    "a = 5\n",
    "b = 3\n",
    "c = a\n",
    "a = b\n",
    "b = c\n",
    "print(\"Swap value of a is:\",a,\"and b is:\",b)"
   ]
  },
  {
   "cell_type": "markdown",
   "id": "4a99a8aa-6811-4168-adda-c62bb4b02e8e",
   "metadata": {},
   "source": [
    "5. Write a Python program to generate a random number?"
   ]
  },
  {
   "cell_type": "code",
   "execution_count": 72,
   "id": "e70ffe7c-c05b-4682-9105-2053d999d191",
   "metadata": {},
   "outputs": [
    {
     "name": "stdout",
     "output_type": "stream",
     "text": [
      "0.7224667369238397\n"
     ]
    }
   ],
   "source": [
    "import random\n",
    "print(random.random())"
   ]
  },
  {
   "cell_type": "code",
   "execution_count": null,
   "id": "fdf52dee-e2da-4b2d-a996-15b6e91c99e1",
   "metadata": {},
   "outputs": [],
   "source": []
  },
  {
   "cell_type": "code",
   "execution_count": null,
   "id": "4490acb9-2f72-4454-9a62-873525190e80",
   "metadata": {},
   "outputs": [],
   "source": []
  }
 ],
 "metadata": {
  "kernelspec": {
   "display_name": "Python 3 (ipykernel)",
   "language": "python",
   "name": "python3"
  },
  "language_info": {
   "codemirror_mode": {
    "name": "ipython",
    "version": 3
   },
   "file_extension": ".py",
   "mimetype": "text/x-python",
   "name": "python",
   "nbconvert_exporter": "python",
   "pygments_lexer": "ipython3",
   "version": "3.12.4"
  }
 },
 "nbformat": 4,
 "nbformat_minor": 5
}
