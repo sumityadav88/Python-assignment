{
 "cells": [
  {
   "cell_type": "raw",
   "id": "844d1b9f-07d2-4315-8dbc-b753038cc6b4",
   "metadata": {},
   "source": [
    "Q1. Write a program to calculate the electricity bill\n",
    "using only if statement? (accept number of unit from user)\n",
    "according to the following criteria:\n",
    " Unit Price\n",
    "First 100 units no charge\n",
    "Next 100 units Rs 5 per unit\n",
    "After 200 units Rs 10 per unit"
   ]
  },
  {
   "cell_type": "code",
   "execution_count": 7,
   "id": "1532ad3f-532b-4cf8-b173-e363e1ef8032",
   "metadata": {},
   "outputs": [
    {
     "name": "stdin",
     "output_type": "stream",
     "text": [
      "Enter unit 350\n"
     ]
    },
    {
     "name": "stdout",
     "output_type": "stream",
     "text": [
      "2000\n"
     ]
    }
   ],
   "source": [
    "unit=int(input(\"Enter unit\"))\n",
    "if unit<=100:\n",
    "    print(\"No charge!\") \n",
    "if(unit>100 and unit<=200):\n",
    "    print((unit-100)*5)\n",
    "if(unit>200):\n",
    "    unit-=100\n",
    "    if(unit>100):\n",
    "        print(100*5+(unit-100)*10)\n"
   ]
  },
  {
   "cell_type": "raw",
   "id": "5c5fde17-0f50-4328-8cdd-30132c2980c3",
   "metadata": {},
   "source": [
    "Q2. Write a program to accept percentage from the user and display\n",
    "the grade according to the following criteria:\n",
    " Marks          Grade\n",
    " > 90             A\n",
    " > 80 and <= 90   B\n",
    " >= 60 and <= 80  C\n",
    " below 60         D"
   ]
  },
  {
   "cell_type": "code",
   "execution_count": 11,
   "id": "9d34e035-2c8b-4d91-959c-81284bd81c60",
   "metadata": {},
   "outputs": [
    {
     "name": "stdin",
     "output_type": "stream",
     "text": [
      "Enter you percentage%: 81\n"
     ]
    },
    {
     "name": "stdout",
     "output_type": "stream",
     "text": [
      "B\n"
     ]
    }
   ],
   "source": [
    "marks=int(input(\"Enter you percentage%:\"))\n",
    "if(marks>90):\n",
    "    print(\"A\")\n",
    "elif(marks>80 and marks<=90):\n",
    "    print(\"B\")\n",
    "elif(marks>=60 and marks<=80):\n",
    "    print(\"C\")\n",
    "elif(marks<60):\n",
    "    print(\"D\")"
   ]
  },
  {
   "cell_type": "raw",
   "id": "e00ad282-6b99-4460-9985-103998132875",
   "metadata": {},
   "source": [
    "Q3. Accept the age of 4 people and display the youngest one?"
   ]
  },
  {
   "cell_type": "code",
   "execution_count": 13,
   "id": "f1b150e5-c5ce-4255-b7f8-6dad2de9d23c",
   "metadata": {},
   "outputs": [
    {
     "name": "stdin",
     "output_type": "stream",
     "text": [
      "Enter age of first person 12\n",
      "Enter age of second person 23\n",
      "Enter age of third person 45\n",
      "Enter age of fourth person 11\n"
     ]
    },
    {
     "name": "stdout",
     "output_type": "stream",
     "text": [
      "Forth person is youngest\n"
     ]
    }
   ],
   "source": [
    "age1=int(input(\"Enter age of first person\"))\n",
    "age2=int(input(\"Enter age of second person\"))\n",
    "age3=int(input(\"Enter age of third person\"))\n",
    "age4=int(input(\"Enter age of fourth person\"))\n",
    "\n",
    "if (age1<age2 and age1<age3 and age1<age4):\n",
    "    print(\"first person is youngest\")\n",
    "elif (age2<age3 and age2<age4):\n",
    "    print(\"Second person is youngest\")\n",
    "elif (age3<age4):\n",
    "    print(\"Third person is youngest\")\n",
    "else:\n",
    "    print(\"Forth person is youngest\")"
   ]
  },
  {
   "cell_type": "raw",
   "id": "bef5444d-cab8-4501-b639-c284cf7cedb6",
   "metadata": {},
   "source": [
    "Q4. A company decided to give bonus to employee\n",
    "according to following criteria:\n",
    " Time period of Service             Bonus\n",
    " More than 10 years                  10%\n",
    " >=6 and <=10                         8%\n",
    " Less than 6 years                    5%\n",
    "Ask user for their salary and years of service and print the\n",
    "net bonus amount?"
   ]
  },
  {
   "cell_type": "code",
   "execution_count": 6,
   "id": "0958c66c-2f88-4827-85dd-cc7d2e5c1599",
   "metadata": {},
   "outputs": [
    {
     "name": "stdin",
     "output_type": "stream",
     "text": [
      "Enter you salary 1000\n",
      "Enter your serice time 2\n"
     ]
    },
    {
     "name": "stdout",
     "output_type": "stream",
     "text": [
      "Bonus 50.0\n"
     ]
    }
   ],
   "source": [
    "salary=int(input(\"Enter you salary\"))\n",
    "service_years=int(input(\"Enter your serice time\"))\n",
    "\n",
    "if (service_years>10):\n",
    "    salary=(salary*10)/100\n",
    "    print(\"Bonus\",salary)\n",
    "elif service_years>=10 and service_years<=6:\n",
    "    salary=(salary*8)/100\n",
    "    print(\"Bonus\",salary)\n",
    "else:\n",
    "    salary=(salary*5)/100\n",
    "    print(\"Bonus\",salary)\n",
    "\n",
    "    "
   ]
  },
  {
   "cell_type": "raw",
   "id": "2802edbd-eb7b-4136-8498-335ed0c8e997",
   "metadata": {},
   "source": [
    "Q5. Accept three numbers from the user and\n",
    "display the second largest number?"
   ]
  },
  {
   "cell_type": "code",
   "execution_count": 16,
   "id": "a0fe166e-1215-4209-a980-9a296fd39148",
   "metadata": {},
   "outputs": [
    {
     "name": "stdin",
     "output_type": "stream",
     "text": [
      "Enter 1st number 3\n",
      "Enter 2nd number 1\n",
      "Enter 3rd number 2\n"
     ]
    },
    {
     "name": "stdout",
     "output_type": "stream",
     "text": [
      "Second Greateset number: 2\n"
     ]
    }
   ],
   "source": [
    "num1=int(input(\"Enter 1st number\"))\n",
    "num2=int(input(\"Enter 2nd number\"))\n",
    "num3=int(input(\"Enter 3rd number\"))\n",
    "\n",
    "if(num1>num2 and num1>num3):\n",
    "    if(num2>num3):\n",
    "        print(\"Second Greateset number:\",num2)\n",
    "    else:\n",
    "        print(\"Second Greateset number:\",num3)\n",
    "elif(num2>num3 and num2>num1):\n",
    "    if(num1>num3):\n",
    "        print(\"Second Greatest number:\",num1)\n",
    "    else:\n",
    "        print(\"Second Greatest number:\",num3)\n",
    "elif(num3>num1 and num3>num2):\n",
    "    if(num1>num2):\n",
    "        print(\"Second Greatest number:\",num1)\n",
    "    else:\n",
    "        print(\"Second Greatest number:\",num2)"
   ]
  },
  {
   "cell_type": "raw",
   "id": "cb9862e0-9eb4-40d1-af3c-f734df0dcd88",
   "metadata": {},
   "source": [
    "Q6. Accept the marked price from the user and calculate\n",
    "the Net amount as (Marked Price – Discount) to pay\n",
    "according to following criteria:\n",
    "Marked Price          Discount\n",
    " >10000                20%\n",
    " >7000 and <=10000     15%\n",
    " <=7000                10%"
   ]
  },
  {
   "cell_type": "code",
   "execution_count": 24,
   "id": "f89bd038-6a2d-484f-8c09-248684247158",
   "metadata": {},
   "outputs": [
    {
     "name": "stdin",
     "output_type": "stream",
     "text": [
      "Enter marked prize 7000\n"
     ]
    },
    {
     "name": "stdout",
     "output_type": "stream",
     "text": [
      "Net amount after dicount is 6300.0\n"
     ]
    }
   ],
   "source": [
    "marked_prize=int(input(\"Enter marked prize\"))\n",
    "\n",
    "if marked_prize>10000:\n",
    "    Discount=(marked_prize*20)/100\n",
    "    Netamount=marked_prize-Discount\n",
    "    print(\"Net amount after dicount is\",Netamount)\n",
    "elif marked_prize<=10000 and marked_prize<7000:\n",
    "    Discount=(marked_prize*15)/100\n",
    "    Netamount=marked_prize-Discount\n",
    "    print(\"Net amount after dicount is\",Netamount)\n",
    "else:\n",
    "    Discount=(marked_prize*10)/100\n",
    "    Netamount=marked_prize-Discount\n",
    "    print(\"Net amount after dicount is\",Netamount)"
   ]
  },
  {
   "cell_type": "raw",
   "id": "00b83b47-3fbe-4c8a-8dff-4e36b78eb4bb",
   "metadata": {},
   "source": [
    "Q7. Accept the marks of English, Math and Science,\n",
    "Social Studies Subject and display the stream allotted\n",
    "according to following:\n",
    "All Subjects more than 80 marks — Science Stream\n",
    "English >80 and Math, Science above 50 — Commerce Stream\n",
    "English > 80 and social studies > 80 — Humanities\n"
   ]
  },
  {
   "cell_type": "code",
   "execution_count": 48,
   "id": "0257469d-9864-41dc-aae7-b622a26aee9a",
   "metadata": {},
   "outputs": [
    {
     "name": "stdin",
     "output_type": "stream",
     "text": [
      "Enter english marks 81\n",
      "Enter math marks 88\n",
      "Enter science marks 90\n",
      "Enter social studies marks 76\n"
     ]
    },
    {
     "name": "stdout",
     "output_type": "stream",
     "text": [
      "You are selected for Commerce stream!!!!\n"
     ]
    }
   ],
   "source": [
    "eng_mark=int(input(\"Enter english marks\"))\n",
    "math_mark=int(input(\"Enter math marks\"))\n",
    "sci_mark=int(input(\"Enter science marks\"))\n",
    "soc_stud_mark=int(input(\"Enter social studies marks\"))\n",
    "if(eng_mark>80 and math_mark>80 and sci_mark>80 and soc_stud_mark>80):\n",
    "    print('you are selected for Science stream!!!')\n",
    "elif(eng_mark>80 and math_mark>50 and sci_mark>50):\n",
    "    print('You are selected for Commerce stream!!!!')\n",
    "elif(eng_mark>80 and soc_stud_mark>80):\n",
    "    print('you are selected for Humanites!!!')"
   ]
  },
  {
   "cell_type": "raw",
   "id": "7e061b3a-ef8f-4968-a6ce-273583084091",
   "metadata": {},
   "source": [
    "Q8. Write a program to display \"Hello\" if a number entered\n",
    "by user is a multiple of five, otherwise print \"Bye\"?\n"
   ]
  },
  {
   "cell_type": "code",
   "execution_count": 28,
   "id": "aff9cf14-2ad7-41b6-8277-a4ad38e46f1e",
   "metadata": {},
   "outputs": [
    {
     "name": "stdin",
     "output_type": "stream",
     "text": [
      "Enter a number 25\n"
     ]
    },
    {
     "name": "stdout",
     "output_type": "stream",
     "text": [
      "Hello\n"
     ]
    }
   ],
   "source": [
    "num=int(input(\"Enter a number\"))\n",
    "\n",
    "if(num%5==0):\n",
    "    print(\"Hello!!\")\n",
    "else:\n",
    "    print(\"Bye!!\")"
   ]
  },
  {
   "cell_type": "raw",
   "id": "97d6f391-ec8b-4b48-848a-43c520a540cf",
   "metadata": {},
   "source": [
    "Q9. Write a program to check whether the last digit of a number\n",
    "(entered by user) is divisible by 3 or not?"
   ]
  },
  {
   "cell_type": "code",
   "execution_count": 32,
   "id": "999d3ce6-4092-4b14-9f20-b680c2eb2ff3",
   "metadata": {},
   "outputs": [
    {
     "name": "stdin",
     "output_type": "stream",
     "text": [
      "Enter a number: 123456\n"
     ]
    },
    {
     "name": "stdout",
     "output_type": "stream",
     "text": [
      "Divisible !!!!\n"
     ]
    }
   ],
   "source": [
    "num=int(input(\"Enter a number:\"))\n",
    "\n",
    "last_digit=num%10\n",
    "if last_digit%3==0:\n",
    "    print(\"Divisible !!!!\")\n",
    "else:\n",
    "    print(\"Not Divisible !!!\")"
   ]
  },
  {
   "cell_type": "raw",
   "id": "e1e2d9ae-b6f8-42fb-ac93-6dd1c79832d9",
   "metadata": {},
   "source": [
    "Q10. Write a program to check whether a number entered\n",
    "is three-digit number or not?"
   ]
  },
  {
   "cell_type": "code",
   "execution_count": null,
   "id": "249a531d-89ee-491d-8a96-6746e3091bec",
   "metadata": {},
   "outputs": [],
   "source": [
    "num=input(\"Enter a number\")\n",
    "length=len(num)\n",
    "\n",
    "if(length!=3):\n",
    "    print(\"It is not a three digit number\")\n",
    "else:\n",
    "    print(\"It is three digit number\")\n"
   ]
  },
  {
   "cell_type": "code",
   "execution_count": null,
   "id": "3dbd1694-87d0-4b1e-9bbc-e462fbd1e5da",
   "metadata": {},
   "outputs": [],
   "source": []
  }
 ],
 "metadata": {
  "kernelspec": {
   "display_name": "Python 3 (ipykernel)",
   "language": "python",
   "name": "python3"
  },
  "language_info": {
   "codemirror_mode": {
    "name": "ipython",
    "version": 3
   },
   "file_extension": ".py",
   "mimetype": "text/x-python",
   "name": "python",
   "nbconvert_exporter": "python",
   "pygments_lexer": "ipython3",
   "version": "3.12.4"
  }
 },
 "nbformat": 4,
 "nbformat_minor": 5
}
